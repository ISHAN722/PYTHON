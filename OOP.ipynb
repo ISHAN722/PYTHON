{
  "nbformat": 4,
  "nbformat_minor": 0,
  "metadata": {
    "colab": {
      "name": "OOP.ipynb",
      "provenance": [],
      "collapsed_sections": [],
      "authorship_tag": "ABX9TyOU7iI0BvbsQXyc8eP6yqjF",
      "include_colab_link": true
    },
    "kernelspec": {
      "name": "python3",
      "display_name": "Python 3"
    },
    "language_info": {
      "name": "python"
    }
  },
  "cells": [
    {
      "cell_type": "markdown",
      "metadata": {
        "id": "view-in-github",
        "colab_type": "text"
      },
      "source": [
        "<a href=\"https://colab.research.google.com/github/ISHAN722/PYTHON/blob/main/OOP.ipynb\" target=\"_parent\"><img src=\"https://colab.research.google.com/assets/colab-badge.svg\" alt=\"Open In Colab\"/></a>"
      ]
    },
    {
      "cell_type": "markdown",
      "metadata": {
        "id": "6NBjjqYqf2DP"
      },
      "source": [
        "CLASS\n",
        "     \n",
        "     \n",
        "class is the blueprint of an object\n"
      ]
    },
    {
      "cell_type": "code",
      "metadata": {
        "id": "JeqYf0TRYHyN"
      },
      "source": [
        "# example of class\n",
        "class car:\n",
        "  pass"
      ],
      "execution_count": 1,
      "outputs": []
    },
    {
      "cell_type": "markdown",
      "metadata": {
        "id": "ZjJtwKVzgfmJ"
      },
      "source": [
        "OBJECT\n",
        "\n",
        "\n",
        "object is an instantiation of a class"
      ]
    },
    {
      "cell_type": "code",
      "metadata": {
        "id": "t0jNOr4tgjDL"
      },
      "source": [
        "# example for object of car class\n",
        "\n",
        "obj = car()"
      ],
      "execution_count": 2,
      "outputs": []
    },
    {
      "cell_type": "markdown",
      "metadata": {
        "id": "oGmhbHXYgyXH"
      },
      "source": [
        "Example 1: Creating Class and Object in Python"
      ]
    },
    {
      "cell_type": "code",
      "metadata": {
        "colab": {
          "base_uri": "https://localhost:8080/"
        },
        "id": "ljkqZEDzgx4L",
        "outputId": "4fee5dba-2575-44e8-aa69-0f97222a9c5c"
      },
      "source": [
        "class car:\n",
        "   \n",
        "  # class attribute \n",
        "  fuel1 = \"petrol\"\n",
        "  fuel2 = \"diesel\"\n",
        "\n",
        "  #instance attribute\n",
        "  def __init__(self, manafacturer, colour):\n",
        "    self.manafacturer = manafacturer\n",
        "    self.colour = colour\n",
        "\n",
        "#instantiate the car class\n",
        "car1 = car(\"audi\", \"red\")\n",
        "car2 = car(\"BMW\", \"black\") \n",
        "\n",
        "#access the class attributes \n",
        "print(f\"car1 runs on {car1.__class__.fuel1}\")\n",
        "print(f\"car2 runs on {car2.__class__.fuel2}\")\n",
        "\n",
        "#access the instance attributes\n",
        "print(f\"car is {car1.manafacturer} and the colour is {car1.colour}\")\n",
        "print(f\"car is {car2.manafacturer} and the colour is {car2.colour}\")"
      ],
      "execution_count": 8,
      "outputs": [
        {
          "output_type": "stream",
          "text": [
            "car1 runs on petrol\n",
            "car2 runs on diesel\n",
            "car is audi and the colour is red\n",
            "car is BMW and the colour is black\n"
          ],
          "name": "stdout"
        }
      ]
    },
    {
      "cell_type": "markdown",
      "metadata": {
        "id": "0yzKwXhSkMQ5"
      },
      "source": [
        "METHODS\n",
        "\n",
        "\n",
        "Methods are functions defined inside the class.They are used to define the behaviour of an object"
      ]
    },
    {
      "cell_type": "markdown",
      "metadata": {
        "id": "U7bWejttkbDd"
      },
      "source": [
        "Example 2 : Creating Methods in Python"
      ]
    },
    {
      "cell_type": "code",
      "metadata": {
        "colab": {
          "base_uri": "https://localhost:8080/"
        },
        "id": "zFe1FMl4keMW",
        "outputId": "77b2e7da-6c50-420e-c76b-79281a5908da"
      },
      "source": [
        "class car:\n",
        "\n",
        "  #instance attributes\n",
        "  def __init__(self, manafacturer, colour):\n",
        "    self.manafacturer = manafacturer\n",
        "    self.colour = colour\n",
        "\n",
        "  #instance methods\n",
        "  def wheels(self,seats):\n",
        "    return f\"{self.manafacturer} has {seats} wheels\"\n",
        "\n",
        "  def engine(self,engine):\n",
        "    return f\"{self.manafacturer} has a {engine} engine\"   \n",
        "\n",
        "# instantiate the object\n",
        "car1 = car(\"LAMBO\", \"silver\")\n",
        "car2 = car(\"FERRARI\", \"white\")\n",
        "\n",
        "# call our instance methods\n",
        "print(car1.wheels(4))\n",
        "print(car2.wheels(4))\n",
        "print(car1.engine(\"V12\"))\n",
        "print(car2.engine(\"V8\"))\n",
        "     "
      ],
      "execution_count": 11,
      "outputs": [
        {
          "output_type": "stream",
          "text": [
            "LAMBO has 4 wheels\n",
            "FERRARI has 4 wheels\n",
            "LAMBO has a V12 engine\n",
            "FERRARI has a V8 engine\n"
          ],
          "name": "stdout"
        }
      ]
    },
    {
      "cell_type": "markdown",
      "metadata": {
        "id": "jPMBi-7snaq9"
      },
      "source": [
        "INHERITANCE\n",
        "\n",
        "inheritance is a way of creating a new class for using details of an existing class without modifying it.The new is class is called the base class and the existing class is called parent class\n"
      ]
    },
    {
      "cell_type": "markdown",
      "metadata": {
        "id": "kXNJCyThntXW"
      },
      "source": [
        "Example 3: Use of Inheritance in Python"
      ]
    },
    {
      "cell_type": "code",
      "metadata": {
        "colab": {
          "base_uri": "https://localhost:8080/"
        },
        "id": "TYHNz8VbnuOZ",
        "outputId": "c7293712-ea2f-4cd3-9c52-15d11c431dff"
      },
      "source": [
        "# parent class\n",
        "class Animal:\n",
        "    \n",
        "    def __init__(self):\n",
        "        print(\"animal class is ready\")\n",
        "\n",
        "    def speak(self):  \n",
        "        print(\"Animal Speaking\")      \n",
        "\n",
        "    def whatAnimal(self):\n",
        "        print(\"DOG\")\n",
        "\n",
        "    def bark(self):\n",
        "        print(\"dog is barking\")\n",
        "\n",
        "# child class\n",
        "class Dog(Animal):\n",
        "\n",
        "    def __init__(self):\n",
        "        # call super() function\n",
        "        super().__init__()\n",
        "        print(\"dog class is ready\")\n",
        "\n",
        "    def whatAnimal(self):\n",
        "        print(\"Dog\")\n",
        "\n",
        "    def run(self):\n",
        "        print(\"Run faster\")\n",
        "\n",
        "dog1 = Dog()\n",
        "dog1.whatAnimal()\n",
        "dog1.bark()\n",
        "dog1.run()"
      ],
      "execution_count": 17,
      "outputs": [
        {
          "output_type": "stream",
          "text": [
            "animal class is ready\n",
            "dog class is ready\n",
            "Dog\n",
            "dog is barking\n",
            "Run faster\n"
          ],
          "name": "stdout"
        }
      ]
    },
    {
      "cell_type": "markdown",
      "metadata": {
        "id": "t4Yar_D_qhnw"
      },
      "source": [
        "ENCAPSULATION\n",
        "\n",
        "using OOP in python we can restrict access to methods and variables.This prevents the data from being directly modified,this is known as encapsulation.\n",
        "Attributes are denoted protected using single underscore(_) as prefix and private using double underscore(__)."
      ]
    },
    {
      "cell_type": "markdown",
      "metadata": {
        "id": "ZfO_DP7prOoZ"
      },
      "source": [
        "Example 4: Data Encapsulation in Python"
      ]
    },
    {
      "cell_type": "code",
      "metadata": {
        "colab": {
          "base_uri": "https://localhost:8080/"
        },
        "id": "_DouEcvJrPnR",
        "outputId": "b8111ca7-4399-41a7-fe6c-88b1359dad40"
      },
      "source": [
        "class Computer:\n",
        "\n",
        "    def __init__(self):\n",
        "        self.__maxprice = 900\n",
        "\n",
        "    def sell(self):\n",
        "        print(f\"Selling Price: {self.__maxprice}\")\n",
        "\n",
        "    def setMaxPrice(self, price):\n",
        "        self.__maxprice = price\n",
        "\n",
        "c = Computer()\n",
        "c.sell()\n",
        "\n",
        "# change the price\n",
        "c.__maxprice = 1000\n",
        "c.sell()\n",
        "\n",
        "# using setter function\n",
        "c.setMaxPrice(1000)\n",
        "c.sell()"
      ],
      "execution_count": 18,
      "outputs": [
        {
          "output_type": "stream",
          "text": [
            "Selling Price: 900\n",
            "Selling Price: 900\n",
            "Selling Price: 1000\n"
          ],
          "name": "stdout"
        }
      ]
    },
    {
      "cell_type": "markdown",
      "metadata": {
        "id": "IKyBNSoyrzwY"
      },
      "source": [
        "Polymorphism\n",
        "\n",
        "\n",
        "polymorphism is an ability to use a common interface for multiple forms(data types)."
      ]
    },
    {
      "cell_type": "markdown",
      "metadata": {
        "id": "JL5ET5FTtgly"
      },
      "source": [
        "Example 5: Using Polymorphism in Python"
      ]
    },
    {
      "cell_type": "code",
      "metadata": {
        "colab": {
          "base_uri": "https://localhost:8080/"
        },
        "id": "ktj2pnFRsVQ4",
        "outputId": "f16e35ab-1bd0-4db6-ecc4-0d5d17322a83"
      },
      "source": [
        "class Dog:\n",
        "\n",
        "    def Run(self):\n",
        "        print(\"dogs can run fast\")\n",
        "    \n",
        "    def swim(self):\n",
        "        print(\"dogs can swim\")\n",
        "\n",
        "class Turtle:\n",
        "\n",
        "    def Run(self):\n",
        "        print(\"turtles can't run fast\")\n",
        "    \n",
        "    def swim(self):\n",
        "        print(\"turtles can swim\")\n",
        "\n",
        "# common interface\n",
        "def running_speed(Animal):\n",
        "    Animal.Run()\n",
        "\n",
        "#instantiate objects\n",
        "dog1 = Dog()\n",
        "turtle1 = Turtle()\n",
        "\n",
        "# passing the object\n",
        "running_speed(dog1)\n",
        "running_speed(turtle1)"
      ],
      "execution_count": 21,
      "outputs": [
        {
          "output_type": "stream",
          "text": [
            "dogs can run fast\n",
            "turtles can't run fast\n"
          ],
          "name": "stdout"
        }
      ]
    },
    {
      "cell_type": "markdown",
      "metadata": {
        "id": "44IcVupUvOWy"
      },
      "source": [
        "KEY POINTS TO REMEMBER\n",
        "\n",
        "1.   object oriented programming makes the program easy to understand as well as efficient\n",
        "\n",
        "2.   since the class is shareable,code can be reused\n",
        "\n",
        "3.   data is safe and secure with data abstraction\n",
        "\n",
        "4.   polymorphism allows the same interface for different objects,so programmers can write efficient code"
      ]
    }
  ]
}